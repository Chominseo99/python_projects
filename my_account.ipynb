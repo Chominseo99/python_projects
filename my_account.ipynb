{
  "nbformat": 4,
  "nbformat_minor": 0,
  "metadata": {
    "colab": {
      "name": "my_account.ipynb",
      "provenance": [],
      "authorship_tag": "ABX9TyNF8phoQes5oW5fJjqw5l/b",
      "include_colab_link": true
    },
    "kernelspec": {
      "name": "python3",
      "display_name": "Python 3"
    },
    "language_info": {
      "name": "python"
    }
  },
  "cells": [
    {
      "cell_type": "markdown",
      "metadata": {
        "id": "view-in-github",
        "colab_type": "text"
      },
      "source": [
        "<a href=\"https://colab.research.google.com/github/Chominseo99/python_projects/blob/main/my_account.ipynb\" target=\"_parent\"><img src=\"https://colab.research.google.com/assets/colab-badge.svg\" alt=\"Open In Colab\"/></a>"
      ]
    },
    {
      "cell_type": "code",
      "source": [
        "# 계좌관리     ----> 클래스\n",
        "# 정보:이름, 계좌번호, 잔고\n",
        "# 1. 계좌 생성\n",
        "# 2. 입금하기\n",
        "# 3. 출금하기 + 출금가능여부 \n",
        "# 4. 종료\n",
        "\n",
        "# 검증 (잔고가 있어야 출금되고)\n",
        "# get set\n"
      ],
      "metadata": {
        "id": "_JRPHlZhTjKA"
      },
      "execution_count": null,
      "outputs": []
    },
    {
      "cell_type": "code",
      "execution_count": null,
      "metadata": {
        "id": "gmZyWyYjTOUW"
      },
      "outputs": [],
      "source": [
        "class Account:\n",
        "    def __init__(self, name, account_number, my_money):\n",
        "        self.name = name\n",
        "        self.account_number = account_number\n",
        "        self.my_money = my_money\n",
        "\n",
        "    def info(self):\n",
        "        print('{0}님 계좌 {1}가 생성되었습니다. 잔고는 {2}원 입니다.'.format(self.name, self.account_number, self.my_money))\n",
        "\n",
        "    def plus_money(self, deposit):\n",
        "        if deposit >= 1:\n",
        "            self.my_money += deposit\n",
        "            return self.my_money\n",
        "        else:\n",
        "            print('입금이 불가능합니다. 1원 이상 입력해주세요.')\n",
        "            return 0\n",
        "    \n",
        "    def minus_money(self, withdraw):\n",
        "        if withdraw <= self.my_money:\n",
        "            self.my_money -= withdraw\n",
        "            return self.my_money\n",
        "        else:\n",
        "            print('잔고가 부족하여 출금이 불가능합니다.')\n",
        "            return 0\n",
        "\n",
        "    def end(self, quit):\n",
        "        while True:\n",
        "            if quit == 'q':\n",
        "                print('종료합니다.')\n",
        "                break\n",
        "            else:\n",
        "                continue\n",
        "\n",
        "    def get_name(self):\n",
        "        return self.name\n",
        "\n",
        "    def get_account_number(self):\n",
        "        return self.account_number\n",
        "\n",
        "    def get_my_money(self):\n",
        "        return self.my_money\n",
        "\n",
        "    def set_name(self, name):\n",
        "        self.name = name \n",
        "\n",
        "    def set_account_number(self, account_number):\n",
        "        self.account_number = account_number \n"
      ]
    },
    {
      "cell_type": "code",
      "source": [
        "ma = Account('조민서', '123-456', 1600)\n",
        "ma.info()\n",
        "\n",
        "ma.plus_money(50000)\n",
        "ma.info()\n",
        "\n",
        "ma.minus_money(500)\n",
        "ma.info()\n",
        "\n",
        "ma.set_name('홍길동')\n",
        "ma.info()\n",
        "\n",
        "ma.set_account_number('987-564')\n",
        "ma.info()\n",
        "\n",
        "print(ma.get_name())\n",
        "print(ma.get_account_number())\n",
        "print(ma.get_my_money())\n",
        "\n",
        "\n",
        "ma.end('q')"
      ],
      "metadata": {
        "colab": {
          "base_uri": "https://localhost:8080/"
        },
        "id": "GMJxu9bETg1f",
        "outputId": "3a5b3b8d-45b0-4889-db45-e871f94ae066"
      },
      "execution_count": null,
      "outputs": [
        {
          "output_type": "stream",
          "name": "stdout",
          "text": [
            "조민서님 계좌 123-456가 생성되었습니다. 잔고는 1600원 입니다.\n",
            "조민서님 계좌 123-456가 생성되었습니다. 잔고는 51600원 입니다.\n",
            "조민서님 계좌 123-456가 생성되었습니다. 잔고는 51100원 입니다.\n",
            "홍길동님 계좌 123-456가 생성되었습니다. 잔고는 51100원 입니다.\n",
            "홍길동님 계좌 987-564가 생성되었습니다. 잔고는 51100원 입니다.\n",
            "홍길동\n",
            "987-564\n",
            "51100\n",
            "종료합니다.\n"
          ]
        }
      ]
    }
  ]
}