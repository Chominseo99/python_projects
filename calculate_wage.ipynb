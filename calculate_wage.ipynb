{
  "nbformat": 4,
  "nbformat_minor": 0,
  "metadata": {
    "colab": {
      "name": "calculate_wage.ipynb",
      "provenance": [],
      "collapsed_sections": [],
      "authorship_tag": "ABX9TyNd/YVHfsglkkT7Lxmi55ds",
      "include_colab_link": true
    },
    "kernelspec": {
      "name": "python3",
      "display_name": "Python 3"
    },
    "language_info": {
      "name": "python"
    }
  },
  "cells": [
    {
      "cell_type": "markdown",
      "metadata": {
        "id": "view-in-github",
        "colab_type": "text"
      },
      "source": [
        "<a href=\"https://colab.research.google.com/github/Chominseo99/python_projects/blob/main/calculate_wage.ipynb\" target=\"_parent\"><img src=\"https://colab.research.google.com/assets/colab-badge.svg\" alt=\"Open In Colab\"/></a>"
      ]
    },
    {
      "cell_type": "code",
      "source": [
        "# 알바 근무시간 목록을 받으면 직원별 월급 출력하기(소수점 첫째짜리 반올림)\n",
        "\n",
        "# 월급 계산은 다음과 같이 합니다.\n",
        "\n",
        "# \t최저시급:8720원\n",
        "\n",
        "# \t주5일 알바는 평일알바\n",
        "# \t주2일 알바는 주말알바\n",
        "\n",
        "# \t샌드위치 알바는 시급+500원\n",
        "# \t주말알바는 시급이 최저시급 1.03배\n",
        "# \t(단 샌드위치는 평일샌드위치의 1.03배)\n",
        "# \t해당되는 조건이 없으면 최저시급\n",
        "\n",
        "# \t주휴수당 지급기준: 주 15시간 이상 근무(단 휴식시간 제외)\n",
        "# \t주휴수당 계산방법: 1주일 일한시간/40시간 *8*시급\n",
        "\n",
        "# \t하루 근무시간이 9시간 이상일 경우 1시간 무급휴식 필수\n",
        "# \t하루 근무시간이 4시간 이상일 경우 30분 무급휴식 필수\n",
        "\n",
        "# \t이번달은 1일 월요일~28일 일요일까지\n",
        "\n",
        "\n",
        "# 알바들\n",
        "# 현지- 오픈알바\n",
        "#        출근시간:8시 퇴근시간:17시, 주5일출근\n",
        "# 민지- 샌드위치알바\n",
        "#       출근시간:7시 퇴근시간 9시 주5일 출근\n",
        "# 예지 - 샌드위치알바\n",
        "#       출근시간:7시 퇴근시간 9시 주2일 출근\n",
        "# 연지- 미들알바\n",
        "#      출근시간:12시 퇴근시간 18시 주5일출근\n",
        "# 혜지-마감알바\n",
        "#        출근시간:18시 퇴근시간:21:30 주5일출근\n",
        "# 윤지-미들알바\n",
        "#       출근시간:12시 퇴근시간 18시 주2일 출근\n",
        "# 엄지-마감알바\n",
        "#        출근시간:18시 퇴근시간21:30 주2일 출근\n",
        "# 신지-오픈알바\n",
        "#      출근시간-8시 퇴근시간 17시, 주2일 출근\n",
        "\n"
      ],
      "metadata": {
        "id": "MrCl5vdnS2zZ"
      },
      "execution_count": null,
      "outputs": []
    },
    {
      "cell_type": "code",
      "execution_count": null,
      "metadata": {
        "id": "tDtpFW9WSwuA"
      },
      "outputs": [],
      "source": [
        "def total_oneday_worktime(start_time, end_time):\n",
        "    worktime = end_time - start_time\n",
        "    if  worktime >= 9:\n",
        "        return worktime - 1\n",
        "    elif 4 <= worktime < 9:\n",
        "        return worktime - 0.5\n",
        "    else:\n",
        "        return worktime\n",
        "\n",
        "def wage(work_day, work_type):\n",
        "    minimum_wage = 8720\n",
        "    if work_day == 5:\n",
        "        if work_type == '샌드위치알바':\n",
        "            return minimum_wage + 500\n",
        "        return minimum_wage\n",
        "    elif work_day == 2:\n",
        "        if work_type == '샌드위치알바':\n",
        "            return (minimum_wage + 500) * 1.03\n",
        "        return minimum_wage * 1.03\n",
        "\n",
        "def plus_money(worktime, work_day, my_wage):\n",
        "    if (worktime * work_day) >= 15:\n",
        "        return (worktime * work_day) / 40 * 8 * my_wage\n",
        "    else:\n",
        "        return 0\n",
        "\n",
        "def calculate_money(my_wage, work_time, more_money):\n",
        "    return my_wage * work_time * 4 + more_money\n"
      ]
    },
    {
      "cell_type": "code",
      "source": [
        "def main():\n",
        "    schedule = [{'name': '현지', 'work_type': '오픈알바', 'start_time': 8, 'end_time': 17, 'work_day': 5},\n",
        "                {'name': '연지', 'work_type': '미들알바', 'start_time': 12, 'end_time': 18, 'work_day': 5},\n",
        "                {'name': '혜지', 'work_type': '마감알바', 'start_time': 18, 'end_time': 21.5, 'work_day': 5},\n",
        "                {'name': '민지', 'work_type': '샌드위치알바', 'start_time': 7, 'end_time': 9, 'work_day': 5},\n",
        "                {'name': '윤지', 'work_type': '미들알바', 'start_time': 12, 'end_time': 18, 'work_day': 2},\n",
        "                {'name': '엄지', 'work_type': '마감알바', 'start_time': 18, 'end_time': 21.5, 'work_day': 2},\n",
        "                {'name': '신지', 'work_type': '오픈알바', 'start_time': 8, 'end_time': 17, 'work_day': 2},\n",
        "                {'name': '예지', 'work_type': '샌드위치알바', 'start_time': 7, 'end_time': 9, 'work_day': 2}]\n",
        "\n",
        "\n",
        "    for i in schedule:\n",
        "\n",
        "        a = total_oneday_worktime(i['start_time'], i['end_time'])\n",
        "        b = round(wage(i['work_day'], i['work_type']))\n",
        "        c = round(plus_money(a, i['work_day'], b))\n",
        "        d = round(calculate_money(b, a, c))\n",
        "\n",
        "        print('{0}의 하루 실제 근무 시간은 {1}시간, 시급은 {2}원, 주휴수당은 {3}원, 월급은 총 {4}원 받을 예정입니다.'.format(i['name'], a, b, c, d))\n",
        "        \n",
        "\n",
        "if __name__ == '__main__':\n",
        "    main()"
      ],
      "metadata": {
        "id": "9PLwJPb2TQbq",
        "outputId": "f1cbae39-f1db-40a6-a0ee-3539aaf9bc69",
        "colab": {
          "base_uri": "https://localhost:8080/"
        }
      },
      "execution_count": null,
      "outputs": [
        {
          "output_type": "stream",
          "name": "stdout",
          "text": [
            "현지의 하루 실제 근무 시간은 8시간, 시급은 8720원, 주휴수당은 69760원, 월급은 총 348800원 받을 예정입니다.\n",
            "연지의 하루 실제 근무 시간은 5.5시간, 시급은 8720원, 주휴수당은 47960원, 월급은 총 239800원 받을 예정입니다.\n",
            "혜지의 하루 실제 근무 시간은 3.5시간, 시급은 8720원, 주휴수당은 30520원, 월급은 총 152600원 받을 예정입니다.\n",
            "민지의 하루 실제 근무 시간은 2시간, 시급은 9220원, 주휴수당은 0원, 월급은 총 73760원 받을 예정입니다.\n",
            "윤지의 하루 실제 근무 시간은 5.5시간, 시급은 8982원, 주휴수당은 0원, 월급은 총 197604원 받을 예정입니다.\n",
            "엄지의 하루 실제 근무 시간은 3.5시간, 시급은 8982원, 주휴수당은 0원, 월급은 총 125748원 받을 예정입니다.\n",
            "신지의 하루 실제 근무 시간은 8시간, 시급은 8982원, 주휴수당은 28742원, 월급은 총 316166원 받을 예정입니다.\n",
            "예지의 하루 실제 근무 시간은 2시간, 시급은 9497원, 주휴수당은 0원, 월급은 총 75976원 받을 예정입니다.\n"
          ]
        }
      ]
    }
  ]
}