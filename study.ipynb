{
  "nbformat": 4,
  "nbformat_minor": 0,
  "metadata": {
    "colab": {
      "name": "study.ipynb",
      "provenance": [],
      "collapsed_sections": [],
      "mount_file_id": "1k7jBEP-Wns7KZV2GEsdiogTnyJMzkNmv",
      "authorship_tag": "ABX9TyPRINicC/4+oTRz5QHRjsjm",
      "include_colab_link": true
    },
    "kernelspec": {
      "name": "python3",
      "display_name": "Python 3"
    },
    "language_info": {
      "name": "python"
    }
  },
  "cells": [
    {
      "cell_type": "markdown",
      "metadata": {
        "id": "view-in-github",
        "colab_type": "text"
      },
      "source": [
        "<a href=\"https://colab.research.google.com/github/Chominseo99/python_projects/blob/main/study.ipynb\" target=\"_parent\"><img src=\"https://colab.research.google.com/assets/colab-badge.svg\" alt=\"Open In Colab\"/></a>"
      ]
    },
    {
      "cell_type": "code",
      "execution_count": null,
      "metadata": {
        "id": "Y-R8FSqnEnA5"
      },
      "outputs": [],
      "source": [
        "topping_id=['a', 'b', 'c', 'd']"
      ]
    },
    {
      "cell_type": "code",
      "source": [
        "for top_num in range(len(topping_id)):\n",
        "  print(top_num)"
      ],
      "metadata": {
        "colab": {
          "base_uri": "https://localhost:8080/"
        },
        "id": "nQLkaPKwEtQ7",
        "outputId": "69200b99-f074-49b0-bd2f-d5f47b7783ec"
      },
      "execution_count": null,
      "outputs": [
        {
          "output_type": "stream",
          "name": "stdout",
          "text": [
            "0\n",
            "1\n",
            "2\n",
            "3\n"
          ]
        }
      ]
    },
    {
      "cell_type": "code",
      "source": [
        "for top_num in topping_id:\n",
        "  print(top_num)"
      ],
      "metadata": {
        "colab": {
          "base_uri": "https://localhost:8080/"
        },
        "id": "hvfeW1-mF8QL",
        "outputId": "3fa4085f-49d5-47fd-9fe4-cba296b8abbc"
      },
      "execution_count": null,
      "outputs": [
        {
          "output_type": "stream",
          "name": "stdout",
          "text": [
            "a\n",
            "b\n",
            "c\n",
            "d\n"
          ]
        }
      ]
    },
    {
      "cell_type": "code",
      "source": [
        "a = [{'hello':'hi', 'good':'bye', 'name': 'minseo'},\n",
        "     {'hello':'hii', 'good':'byee', 'name': 'sy'},\n",
        "     {'hello':'hiii', 'good':'byeee', 'name': 'han'}]"
      ],
      "metadata": {
        "id": "NHSM-0PdIGMr"
      },
      "execution_count": null,
      "outputs": []
    },
    {
      "cell_type": "code",
      "source": [
        "for aa in a:\n",
        "  print(aa['name'])"
      ],
      "metadata": {
        "colab": {
          "base_uri": "https://localhost:8080/"
        },
        "id": "sDvPbO3cIT3F",
        "outputId": "f3336cf8-8952-43fc-e5ea-cf199244b0a2"
      },
      "execution_count": null,
      "outputs": [
        {
          "output_type": "stream",
          "name": "stdout",
          "text": [
            "minseo\n",
            "sy\n",
            "han\n"
          ]
        }
      ]
    },
    {
      "cell_type": "code",
      "source": [
        "for aa in a:\n",
        "  if aa['name'] == 'minseo':\n",
        "    print('yes')\n",
        "  else:\n",
        "    print('no')"
      ],
      "metadata": {
        "colab": {
          "base_uri": "https://localhost:8080/"
        },
        "id": "k5fmxVemIr_g",
        "outputId": "2adda182-428a-4aaa-a3c8-5c1190947076"
      },
      "execution_count": null,
      "outputs": [
        {
          "output_type": "stream",
          "name": "stdout",
          "text": [
            "yes\n",
            "no\n",
            "no\n"
          ]
        }
      ]
    },
    {
      "cell_type": "code",
      "source": [
        "b = [1,2,3,4]\n",
        "c = []"
      ],
      "metadata": {
        "id": "-fxrriN5Jq_5"
      },
      "execution_count": null,
      "outputs": []
    },
    {
      "cell_type": "code",
      "source": [
        "for bb in b:\n",
        "  c.append(bb)\n",
        "print(c)"
      ],
      "metadata": {
        "colab": {
          "base_uri": "https://localhost:8080/"
        },
        "id": "vn4g-qn1J0pC",
        "outputId": "a84175c9-9a01-4af9-8ba0-0c95542bc70a"
      },
      "execution_count": null,
      "outputs": [
        {
          "output_type": "stream",
          "name": "stdout",
          "text": [
            "[1, 2, 3, 4]\n"
          ]
        }
      ]
    },
    {
      "cell_type": "code",
      "source": [
        "c = []\n",
        "if c:\n",
        "  print(\"True\")\n",
        "else:\n",
        "  print(\"False\")"
      ],
      "metadata": {
        "colab": {
          "base_uri": "https://localhost:8080/"
        },
        "id": "GJ1p911XNcl_",
        "outputId": "3eb45912-5ab6-4756-f151-979996516872"
      },
      "execution_count": null,
      "outputs": [
        {
          "output_type": "stream",
          "name": "stdout",
          "text": [
            "False\n"
          ]
        }
      ]
    },
    {
      "cell_type": "code",
      "source": [
        "b = []\n",
        "c = [bb for bb in b]\n",
        "print(c)"
      ],
      "metadata": {
        "colab": {
          "base_uri": "https://localhost:8080/"
        },
        "id": "upj_Af6xN3xU",
        "outputId": "427c9d45-8695-4b9a-86e0-750d45fcb139"
      },
      "execution_count": null,
      "outputs": [
        {
          "output_type": "stream",
          "name": "stdout",
          "text": [
            "[]\n"
          ]
        }
      ]
    },
    {
      "cell_type": "code",
      "source": [
        "b = [1,2,3,4]\n",
        "c = []"
      ],
      "metadata": {
        "id": "pNZTYOltv_OV"
      },
      "execution_count": null,
      "outputs": []
    },
    {
      "cell_type": "code",
      "source": [
        "for bb in b:\n",
        "  c.append(bb)\n",
        "print(c)\n",
        "\n",
        "if c:\n",
        "  d = sum(c)\n",
        "  print(d)"
      ],
      "metadata": {
        "colab": {
          "base_uri": "https://localhost:8080/"
        },
        "id": "8bNpyj5iwBtu",
        "outputId": "8434143d-8927-4089-e713-f400f8ec0040"
      },
      "execution_count": null,
      "outputs": [
        {
          "output_type": "stream",
          "name": "stdout",
          "text": [
            "[1, 2, 3, 4]\n",
            "10\n"
          ]
        }
      ]
    }
  ]
}