{
  "nbformat": 4,
  "nbformat_minor": 0,
  "metadata": {
    "colab": {
      "name": "practice.ipynb",
      "provenance": [],
      "collapsed_sections": [],
      "authorship_tag": "ABX9TyNDNDnPBflyEhc46JCBC4R6",
      "include_colab_link": true
    },
    "kernelspec": {
      "name": "python3",
      "display_name": "Python 3"
    },
    "language_info": {
      "name": "python"
    }
  },
  "cells": [
    {
      "cell_type": "markdown",
      "metadata": {
        "id": "view-in-github",
        "colab_type": "text"
      },
      "source": [
        "<a href=\"https://colab.research.google.com/github/Chominseo99/python_projects/blob/main/practice.ipynb\" target=\"_parent\"><img src=\"https://colab.research.google.com/assets/colab-badge.svg\" alt=\"Open In Colab\"/></a>"
      ]
    },
    {
      "cell_type": "code",
      "source": [
        "a = [3,6,1,8,9]\n",
        "for i in range(len(a)):\n",
        "    a[i] = a[i] + 2\n",
        "    print(a)"
      ],
      "metadata": {
        "colab": {
          "base_uri": "https://localhost:8080/"
        },
        "id": "aCvtVHDlT3M2",
        "outputId": "ca021373-fc1a-4431-ecf6-0e632dea85f4"
      },
      "execution_count": null,
      "outputs": [
        {
          "output_type": "stream",
          "name": "stdout",
          "text": [
            "[5, 6, 1, 8, 9]\n",
            "[5, 8, 1, 8, 9]\n",
            "[5, 8, 3, 8, 9]\n",
            "[5, 8, 3, 10, 9]\n",
            "[5, 8, 3, 10, 11]\n"
          ]
        }
      ]
    },
    {
      "cell_type": "code",
      "source": [
        "snack = {\n",
        "            '죠리퐁': '2000원', \n",
        "            '고래밥': '1500원',\n",
        "            '사또밥': '2500원'\n",
        "        }\n",
        "\n",
        "print(snack['죠리퐁'])"
      ],
      "metadata": {
        "colab": {
          "base_uri": "https://localhost:8080/"
        },
        "id": "-_LCa07mT5dv",
        "outputId": "aec9c188-cd2f-4ba6-e032-cd1ce6bb8304"
      },
      "execution_count": null,
      "outputs": [
        {
          "output_type": "stream",
          "name": "stdout",
          "text": [
            "2000원\n"
          ]
        }
      ]
    },
    {
      "cell_type": "code",
      "source": [
        "score = {\n",
        "            '강호동': '0점',\n",
        "            '이수근': '0점',\n",
        "            '은지원': '0점'\n",
        "        }\n",
        "\n",
        "def call_name(score, name):\n",
        "    score[name] = score[name] - 1"
      ],
      "metadata": {
        "id": "30VkgekgT9-Z"
      },
      "execution_count": null,
      "outputs": []
    },
    {
      "cell_type": "code",
      "source": [
        "def repeat(sentence):\n",
        "    return sentence * 3"
      ],
      "metadata": {
        "id": "PRty7dJdUA0h"
      },
      "execution_count": null,
      "outputs": []
    },
    {
      "cell_type": "code",
      "source": [
        "a = [1,2,7,3,5,9,8,2,3]\n",
        "c = 1\n",
        "for i in a[1:9]:\n",
        "    c = c * i\n",
        "    print(c)"
      ],
      "metadata": {
        "colab": {
          "base_uri": "https://localhost:8080/"
        },
        "id": "vBLUDkDkUSV9",
        "outputId": "c4ad9b33-f452-45d6-99c2-90c52e50a7b3"
      },
      "execution_count": null,
      "outputs": [
        {
          "output_type": "stream",
          "name": "stdout",
          "text": [
            "2\n",
            "14\n",
            "42\n",
            "210\n",
            "1890\n",
            "15120\n",
            "30240\n",
            "90720\n"
          ]
        }
      ]
    },
    {
      "cell_type": "code",
      "source": [
        "# month_31 = [1,3,5,7,8,10,12]\n",
        "\n",
        "def print_days(month):\n",
        "    if month == 2:\n",
        "        print('28일 입니다.')\n",
        "    elif month == 1 or month == 3 or month == 5 or month == 7 or month == 8 or month == 10 or month == 12:\n",
        "        if month == 7:\n",
        "            print('소연쓰 생일^^')\n",
        "        print('31일 입니다.')\n",
        "    else:\n",
        "        print('30일 입니다.')\n",
        "\n",
        "month = int(input())\n",
        "print_days(month)"
      ],
      "metadata": {
        "colab": {
          "base_uri": "https://localhost:8080/"
        },
        "id": "VG4PHMCDUXiF",
        "outputId": "136805e5-09bd-4938-a4c7-ae90942e8d82"
      },
      "execution_count": null,
      "outputs": [
        {
          "output_type": "stream",
          "name": "stdout",
          "text": [
            "7\n",
            "소연쓰 생일^^\n",
            "31일 입니다.\n"
          ]
        }
      ]
    },
    {
      "cell_type": "code",
      "source": [
        "a, b = map(int, input().split())\n",
        "def result(a, b):\n",
        "    return a * b, a + b\n"
      ],
      "metadata": {
        "colab": {
          "base_uri": "https://localhost:8080/"
        },
        "id": "6eTxMmofUc1S",
        "outputId": "95f8b415-664f-42af-f8ca-7f14aa4d4577"
      },
      "execution_count": null,
      "outputs": [
        {
          "name": "stdout",
          "output_type": "stream",
          "text": [
            "3 5\n"
          ]
        }
      ]
    },
    {
      "cell_type": "code",
      "source": [
        "a = [[10, 20], [30, 40], [50, 60]]\n",
        "for i in a:\n",
        "    for j in i:\n",
        "        print(j, end=' ')\n",
        "    print()"
      ],
      "metadata": {
        "colab": {
          "base_uri": "https://localhost:8080/"
        },
        "id": "gWBruPZhUd27",
        "outputId": "e681203e-ee9e-452f-dc4b-eb1d81b7519d"
      },
      "execution_count": null,
      "outputs": [
        {
          "output_type": "stream",
          "name": "stdout",
          "text": [
            "10 20 \n",
            "30 40 \n",
            "50 60 \n"
          ]
        }
      ]
    },
    {
      "cell_type": "code",
      "source": [
        "def result(a, b):\n",
        "    return a * b, a + b"
      ],
      "metadata": {
        "id": "juDeNhFlUeyt"
      },
      "execution_count": null,
      "outputs": []
    },
    {
      "cell_type": "code",
      "execution_count": null,
      "metadata": {
        "colab": {
          "base_uri": "https://localhost:8080/"
        },
        "id": "9MjdoNYWTuhz",
        "outputId": "46b4cc12-0273-483c-a965-8479736e72ed"
      },
      "outputs": [
        {
          "output_type": "stream",
          "name": "stdout",
          "text": [
            "2 6\n",
            "곱하기 값은 12, 더하기 값은 8.\n"
          ]
        }
      ],
      "source": [
        "def main():\n",
        "    a, b = map(int, input().split())\n",
        "    n, m = result(a, b)\n",
        "\n",
        "    print('곱하기 값은 {0}, 더하기 값은 {1}.'.format(n, m))\n",
        "\n",
        "if __name__ == '__main__':\n",
        "    main()\n"
      ]
    },
    {
      "cell_type": "code",
      "source": [
        ""
      ],
      "metadata": {
        "id": "wVxPZd3zUibK"
      },
      "execution_count": null,
      "outputs": []
    }
  ]
}